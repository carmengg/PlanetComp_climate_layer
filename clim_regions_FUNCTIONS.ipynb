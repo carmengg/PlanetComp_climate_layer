{
 "cells": [
  {
   "cell_type": "code",
   "execution_count": 1,
   "id": "7e873ca3-7728-445c-b566-43f0e9cc16f5",
   "metadata": {},
   "outputs": [],
   "source": [
    "# LIBRARIES FOR NOTEBOOK\n",
    "import xarray as xr"
   ]
  },
  {
   "cell_type": "code",
   "execution_count": 2,
   "id": "ccc8e9fd-b4e8-4d6f-939e-8abc2924e272",
   "metadata": {},
   "outputs": [],
   "source": [
    "#LBRARIES FOR FUNCTIONS\n",
    "import os\n",
    "import numpy as np\n",
    "import geopandas as gpd\n",
    "\n",
    "from rasterio.features import shapes\n",
    "from shapely.geometry import Polygon\n",
    "\n",
    "import cv2\n",
    "# pip install opencv-python-headless\n",
    "# https://pypi.org/project/opencv-python/"
   ]
  },
  {
   "cell_type": "markdown",
   "id": "bd1ca23d-f2c9-4d50-9a78-b964007764ac",
   "metadata": {},
   "source": [
    "## FUNCTIONS"
   ]
  },
  {
   "cell_type": "code",
   "execution_count": 3,
   "id": "ab59c013-c149-42f1-9990-db887c2f14f6",
   "metadata": {},
   "outputs": [],
   "source": [
    "# EXTRACT POLYGONS FROM REGIONS\n",
    "# we are reusing the functions previoysly coded in temp_increase_regions.ipynb notebook @ Aurora server\n",
    "\n",
    "# ------------------------------------------------------------------\n",
    "\n",
    "# shape is a single JSON-ish polygon coming from the rasterio.features.shapes function\n",
    "# rasterio.features.shapes returns a list of pairs (shape, value), example of a pair:\n",
    "#   ({'type': 'Polygon', 'coordinates': [[(6,0),(6,2),(8,0),(6,0)]]}, 1.0)\n",
    "#   shape is the first entry (the dictionary)\n",
    "def create_polygon(shape):\n",
    "    \n",
    "    poly_list = shape.get('coordinates')\n",
    "\n",
    "    if len(poly_list) == 1:    # polygon without holes\n",
    "        return Polygon(poly_list[0])\n",
    "\n",
    "    holes = []\n",
    "    for i in range(1,len(poly_list)):\n",
    "        holes.append(poly_list[i])\n",
    "    return Polygon(shell=poly_list[0], holes=holes)\n",
    "\n",
    "# ------------------------------------------------------------------\n",
    "# ------------------------------------------------------------------\n",
    "\n",
    "# shapes_list is the output from rasterio.features.shapes (type generator, iterable once)\n",
    "# crs that will be assigned to the GeoDataFrame\n",
    "def shapes_2_GeoDataFrame(shapes_list, crs = False):\n",
    "\n",
    "    df = gpd.GeoDataFrame() \n",
    "    i = 0\n",
    "    for shape, value in shapes_list:\n",
    "        df.loc[i,'geometry'] = create_polygon(shape)\n",
    "        i = i+1\n",
    "\n",
    "    if(crs != False):\n",
    "        df.crs = crs\n",
    "    \n",
    "    return df\n",
    "\n",
    "# ------------------------------------------------------------------\n",
    "# ------------------------------------------------------------------\n",
    "def thick_regions(regions, iterations=1):\n",
    "    \n",
    "    aff = regions.rio.transform()\n",
    "    crs = regions.rio.crs\n",
    "    \n",
    "    np_rgns = regions.to_numpy()\n",
    "    thick_regions = cv2.dilate(np_rgns, \n",
    "               np.ones((3,3), np.uint8), \n",
    "               iterations)\n",
    "    thick_regions = thick_regions.astype('uint8')  \n",
    "    \n",
    "    thick_shps = shapes(source = thick_regions, \n",
    "                     mask= thick_regions,   # include this so regions with value 0 are not inclduded\n",
    "                     connectivity = 8,\n",
    "                     transform = aff)\n",
    "\n",
    "    return shapes_2_GeoDataFrame(thick_shps , crs)\n",
    "\n",
    "# ------------------------------------------------------------------\n",
    "# ------------------------------------------------------------------\n",
    "\n",
    "def export_regions(regions,file_name,parent_dir):\n",
    "    \n",
    "    new_dir = parent_dir + file_name\n",
    "    outfp = os.path.join(new_dir, file_name+'.shp')\n",
    "\n",
    "    os.mkdir(new_dir)\n",
    "    regions.to_file(outfp)\n",
    "    return"
   ]
  },
  {
   "cell_type": "markdown",
   "id": "553dbf09-40f3-48bf-957f-d3d3ee698cef",
   "metadata": {},
   "source": [
    "## TRIALS - CLIMATE DATA"
   ]
  },
  {
   "cell_type": "code",
   "execution_count": 5,
   "id": "33b38008-300f-429c-ba60-52b0eeb87bbe",
   "metadata": {},
   "outputs": [
    {
     "data": {
      "text/plain": [
       "<matplotlib.collections.QuadMesh at 0x7f86b1b00af0>"
      ]
     },
     "execution_count": 5,
     "metadata": {},
     "output_type": "execute_result"
    },
    {
     "data": {
      "image/png": "[encoded data removed]",
      "text/plain": [
       "<Figure size 432x288 with 2 Axes>"
      ]
     },
     "metadata": {
      "needs_background": "light"
     },
     "output_type": "display_data"
    }
   ],
   "source": [
    "path = \"/home/jovyan/PlanetComp_climate_layer/clim_increase_10_19.nc\"\n",
    "clim_rgns = xr.open_dataarray(path)\n",
    "clim_rgns.plot()"
   ]
  },
  {
   "cell_type": "code",
   "execution_count": 6,
   "id": "ce905636-809f-44bb-a311-5be5b380f224",
   "metadata": {},
   "outputs": [
    {
     "data": {
      "text/html": [
       "<div>\n",
       "<style scoped>\n",
       "    .dataframe tbody tr th:only-of-type {\n",
       "        vertical-align: middle;\n",
       "    }\n",
       "\n",
       "    .dataframe tbody tr th {\n",
       "        vertical-align: top;\n",
       "    }\n",
       "\n",
       "    .dataframe thead th {\n",
       "        text-align: right;\n",
       "    }\n",
       "</style>\n",
       "<table border=\"1\" class=\"dataframe\">\n",
       "  <thead>\n",
       "    <tr style=\"text-align: right;\">\n",
       "      <th></th>\n",
       "      <th>geometry</th>\n",
       "    </tr>\n",
       "  </thead>\n",
       "  <tbody>\n",
       "    <tr>\n",
       "      <th>0</th>\n",
       "      <td>POLYGON ((-1861750.000 210500.000, -1861750.00...</td>\n",
       "    </tr>\n",
       "    <tr>\n",
       "      <th>1</th>\n",
       "      <td>POLYGON ((-1859750.000 210500.000, -1859750.00...</td>\n",
       "    </tr>\n",
       "    <tr>\n",
       "      <th>2</th>\n",
       "      <td>POLYGON ((-1869750.000 209500.000, -1869750.00...</td>\n",
       "    </tr>\n",
       "    <tr>\n",
       "      <th>3</th>\n",
       "      <td>POLYGON ((-1845750.000 209500.000, -1845750.00...</td>\n",
       "    </tr>\n",
       "    <tr>\n",
       "      <th>4</th>\n",
       "      <td>POLYGON ((-1843750.000 207500.000, -1843750.00...</td>\n",
       "    </tr>\n",
       "    <tr>\n",
       "      <th>...</th>\n",
       "      <td>...</td>\n",
       "    </tr>\n",
       "    <tr>\n",
       "      <th>2784</th>\n",
       "      <td>POLYGON ((-1458750.000 -901500.000, -1458750.0...</td>\n",
       "    </tr>\n",
       "    <tr>\n",
       "      <th>2785</th>\n",
       "      <td>POLYGON ((-1456750.000 -903500.000, -1456750.0...</td>\n",
       "    </tr>\n",
       "    <tr>\n",
       "      <th>2786</th>\n",
       "      <td>POLYGON ((-1453750.000 -907500.000, -1453750.0...</td>\n",
       "    </tr>\n",
       "    <tr>\n",
       "      <th>2787</th>\n",
       "      <td>POLYGON ((-1309750.000 -910500.000, -1305750.0...</td>\n",
       "    </tr>\n",
       "    <tr>\n",
       "      <th>2788</th>\n",
       "      <td>POLYGON ((-1315750.000 -912500.000, -1312750.0...</td>\n",
       "    </tr>\n",
       "  </tbody>\n",
       "</table>\n",
       "<p>2789 rows × 1 columns</p>\n",
       "</div>"
      ],
      "text/plain": [
       "                                               geometry\n",
       "0     POLYGON ((-1861750.000 210500.000, -1861750.00...\n",
       "1     POLYGON ((-1859750.000 210500.000, -1859750.00...\n",
       "2     POLYGON ((-1869750.000 209500.000, -1869750.00...\n",
       "3     POLYGON ((-1845750.000 209500.000, -1845750.00...\n",
       "4     POLYGON ((-1843750.000 207500.000, -1843750.00...\n",
       "...                                                 ...\n",
       "2784  POLYGON ((-1458750.000 -901500.000, -1458750.0...\n",
       "2785  POLYGON ((-1456750.000 -903500.000, -1456750.0...\n",
       "2786  POLYGON ((-1453750.000 -907500.000, -1453750.0...\n",
       "2787  POLYGON ((-1309750.000 -910500.000, -1305750.0...\n",
       "2788  POLYGON ((-1315750.000 -912500.000, -1312750.0...\n",
       "\n",
       "[2789 rows x 1 columns]"
      ]
     },
     "execution_count": 6,
     "metadata": {},
     "output_type": "execute_result"
    }
   ],
   "source": [
    "clim_polygons = thick_regions(clim_rgns)\n",
    "clim_polygons"
   ]
  },
  {
   "cell_type": "code",
   "execution_count": 7,
   "id": "5a4dad11-80a2-478c-bc85-f2f375b39788",
   "metadata": {},
   "outputs": [],
   "source": [
    "# ----- SAVE RESULTS -----\n",
    "# file_name = \"clim_increase_10_19\"\n",
    "# parent_dir = \"/home/jovyan/PlanetComp_climate_layer/\"\n",
    "\n",
    "# export_regions(clim_polygons,file_name,parent_dir)"
   ]
  },
  {
   "cell_type": "markdown",
   "id": "d3c8565e-3d35-4568-ac5e-ab8109d8e0dd",
   "metadata": {},
   "source": [
    "## TRIALS - ARIDITY DATA"
   ]
  },
  {
   "cell_type": "code",
   "execution_count": 8,
   "id": "ddd08774-2757-4799-8a72-4eef654d2e4d",
   "metadata": {},
   "outputs": [
    {
     "data": {
      "text/plain": [
       "<matplotlib.collections.QuadMesh at 0x7f86b21edd00>"
      ]
     },
     "execution_count": 8,
     "metadata": {},
     "output_type": "execute_result"
    },
    {
     "data": {
      "image/png": "[encoded data removed]",
      "text/plain": [
       "<Figure size 432x288 with 2 Axes>"
      ]
     },
     "metadata": {
      "needs_background": "light"
     },
     "output_type": "display_data"
    }
   ],
   "source": [
    "outfp = \"/home/jovyan/PlanetComp_aridity_layer/arid_increase_19_08.nc\"\n",
    "aridity_regions = xr.open_dataarray(outfp)\n",
    "aridity_regions.plot()"
   ]
  },
  {
   "cell_type": "code",
   "execution_count": 9,
   "id": "3b7a2fcd-7fca-4f05-a51d-be0074d9da0e",
   "metadata": {},
   "outputs": [
    {
     "data": {
      "text/html": [
       "<div>\n",
       "<style scoped>\n",
       "    .dataframe tbody tr th:only-of-type {\n",
       "        vertical-align: middle;\n",
       "    }\n",
       "\n",
       "    .dataframe tbody tr th {\n",
       "        vertical-align: top;\n",
       "    }\n",
       "\n",
       "    .dataframe thead th {\n",
       "        text-align: right;\n",
       "    }\n",
       "</style>\n",
       "<table border=\"1\" class=\"dataframe\">\n",
       "  <thead>\n",
       "    <tr style=\"text-align: right;\">\n",
       "      <th></th>\n",
       "      <th>geometry</th>\n",
       "    </tr>\n",
       "  </thead>\n",
       "  <tbody>\n",
       "    <tr>\n",
       "      <th>0</th>\n",
       "      <td>POLYGON ((-122.16250 42.00417, -121.87083 42.0...</td>\n",
       "    </tr>\n",
       "    <tr>\n",
       "      <th>1</th>\n",
       "      <td>POLYGON ((-121.74583 41.87917, -121.74583 41.8...</td>\n",
       "    </tr>\n",
       "    <tr>\n",
       "      <th>2</th>\n",
       "      <td>POLYGON ((-121.28750 41.87917, -121.28750 41.8...</td>\n",
       "    </tr>\n",
       "    <tr>\n",
       "      <th>3</th>\n",
       "      <td>POLYGON ((-120.20417 41.87917, -120.20417 41.7...</td>\n",
       "    </tr>\n",
       "    <tr>\n",
       "      <th>4</th>\n",
       "      <td>POLYGON ((-122.49583 42.00417, -122.45417 42.0...</td>\n",
       "    </tr>\n",
       "    <tr>\n",
       "      <th>...</th>\n",
       "      <td>...</td>\n",
       "    </tr>\n",
       "    <tr>\n",
       "      <th>205</th>\n",
       "      <td>POLYGON ((-115.87083 32.92083, -115.87083 32.8...</td>\n",
       "    </tr>\n",
       "    <tr>\n",
       "      <th>206</th>\n",
       "      <td>POLYGON ((-115.28750 32.92083, -115.28750 32.8...</td>\n",
       "    </tr>\n",
       "    <tr>\n",
       "      <th>207</th>\n",
       "      <td>POLYGON ((-115.41250 33.29583, -115.37083 33.2...</td>\n",
       "    </tr>\n",
       "    <tr>\n",
       "      <th>208</th>\n",
       "      <td>POLYGON ((-116.03750 32.79583, -116.03750 32.7...</td>\n",
       "    </tr>\n",
       "    <tr>\n",
       "      <th>209</th>\n",
       "      <td>POLYGON ((-115.95417 32.71250, -115.95417 32.6...</td>\n",
       "    </tr>\n",
       "  </tbody>\n",
       "</table>\n",
       "<p>210 rows × 1 columns</p>\n",
       "</div>"
      ],
      "text/plain": [
       "                                              geometry\n",
       "0    POLYGON ((-122.16250 42.00417, -121.87083 42.0...\n",
       "1    POLYGON ((-121.74583 41.87917, -121.74583 41.8...\n",
       "2    POLYGON ((-121.28750 41.87917, -121.28750 41.8...\n",
       "3    POLYGON ((-120.20417 41.87917, -120.20417 41.7...\n",
       "4    POLYGON ((-122.49583 42.00417, -122.45417 42.0...\n",
       "..                                                 ...\n",
       "205  POLYGON ((-115.87083 32.92083, -115.87083 32.8...\n",
       "206  POLYGON ((-115.28750 32.92083, -115.28750 32.8...\n",
       "207  POLYGON ((-115.41250 33.29583, -115.37083 33.2...\n",
       "208  POLYGON ((-116.03750 32.79583, -116.03750 32.7...\n",
       "209  POLYGON ((-115.95417 32.71250, -115.95417 32.6...\n",
       "\n",
       "[210 rows x 1 columns]"
      ]
     },
     "execution_count": 9,
     "metadata": {},
     "output_type": "execute_result"
    }
   ],
   "source": [
    "arid_polygons = thick_regions(aridity_regions)\n",
    "arid_polygons"
   ]
  },
  {
   "cell_type": "code",
   "execution_count": 10,
   "id": "2e7186f6-17a8-46e2-9b68-05b09edae4d3",
   "metadata": {},
   "outputs": [],
   "source": [
    "# ----- SAVE RESULTS -----\n",
    "# file_name = \"arid_increase_08_19\"\n",
    "# parent_dir = \"/home/jovyan/PlanetComp_aridity_layer/\"\n",
    "\n",
    "# export_regions(arid_polygons,file_name,parent_dir)"
   ]
  },
  {
   "cell_type": "code",
   "execution_count": null,
   "id": "7734544f-c283-4e7e-96ec-d25b42f3daa5",
   "metadata": {},
   "outputs": [],
   "source": []
  }
 ],
 "metadata": {
  "kernelspec": {
   "display_name": "Python 3 (ipykernel)",
   "language": "python",
   "name": "python3"
  },
  "language_info": {
   "codemirror_mode": {
    "name": "ipython",
    "version": 3
   },
   "file_extension": ".py",
   "mimetype": "text/x-python",
   "name": "python",
   "nbconvert_exporter": "python",
   "pygments_lexer": "ipython3",
   "version": "3.8.12"
  }
 },
 "nbformat": 4,
 "nbformat_minor": 5
}
